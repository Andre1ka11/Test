{
 "cells": [
  {
   "cell_type": "markdown",
   "id": "679a7e22",
   "metadata": {},
   "source": [
    "# Домашнее задание №1"
   ]
  }
 ],
 "metadata": {
  "language_info": {
   "name": "python"
  }
 },
 "nbformat": 4,
 "nbformat_minor": 5
}
